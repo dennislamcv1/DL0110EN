{
 "cells": [
  {
   "cell_type": "markdown",
   "metadata": {},
   "source": [
    " <div class=\"alert alert-block alert-info\" style=\"margin-top: 20px\">\n",
    " <a href=\"http://cocl.us/NotebooksPython101\"><img src = \"https://ibm.box.com/shared/static/yfe6h4az47ktg2mm9h05wby2n7e8kei3.png\" width = 750, align = \"center\"></a>\n"
   ]
  },
  {
   "cell_type": "markdown",
   "metadata": {},
   "source": [
    "<img src = \"https://ibm.box.com/shared/static/ugcqz6ohbvff804xp84y4kqnvvk3bq1g.png\" width = 200, align = \"center\">\n",
    "\n",
    "\n",
    "<h1 align=center><font size = 5>Deeper Neural Networks with nn.ModuleList()\n",
    " </font></h1> "
   ]
  },
  {
   "cell_type": "markdown",
   "metadata": {},
   "source": [
    "# Table of Contents\n",
    "In this lab, you will go over the basics of tensor operations \n",
    "\n",
    "<div class=\"alert alert-block alert-info\" style=\"margin-top: 20px\">\n",
    "<li><a href=\"#ref0\">Helper Functions  </a></li>\n",
    "<li><a href=\"#ref1\">Neural  Network Module and Function for Training</a></li>\n",
    "<li><a href=\"#ref2\"> Train and Validate the Model  <a></li>\n",
    "<li><a href=\"#ref3\">Practice Question</a></li>\n",
    "\n",
    "\n",
    "<br>\n",
    "<p></p>\n",
    "Estimated Time Needed: <strong>25 min</strong>\n",
    "</div>\n",
    "\n",
    "<hr>\n"
   ]
  },
  {
   "cell_type": "markdown",
   "metadata": {},
   "source": [
    "You'll need the following libraries:  "
   ]
  },
  {
   "cell_type": "code",
   "execution_count": null,
   "metadata": {},
   "outputs": [],
   "source": [
    "import matplotlib.pyplot as plt \n",
    "import numpy as np\n",
    "import torch\n",
    "import torch.nn as nn\n",
    "import torch.nn.functional as F\n",
    "from matplotlib.colors import ListedColormap\n",
    "torch.manual_seed(1)"
   ]
  },
  {
   "cell_type": "markdown",
   "metadata": {},
   "source": [
    "<a id=\"ref0\"></a>\n",
    "\n",
    "<h2> Helper Functions </h2>\n",
    "    "
   ]
  },
  {
   "cell_type": "markdown",
   "metadata": {},
   "source": [
    "Functions used to plot:"
   ]
  },
  {
   "cell_type": "code",
   "execution_count": null,
   "metadata": {},
   "outputs": [],
   "source": [
    "def plot_decision_regions_3class(model,data_set):\n",
    "    cmap_light = ListedColormap(['#FFAAAA', '#AAFFAA','#00AAFF'])\n",
    "    cmap_bold = ListedColormap(['#FF0000', '#00FF00','#00AAFF'])\n",
    "    X=data_set.x.numpy()\n",
    "    y=data_set.y.numpy()\n",
    "    h = .02\n",
    "    x_min, x_max = X[:, 0].min()-0.1 , X[:, 0].max()+0.1 \n",
    "    y_min, y_max = X[:, 1].min()-0.1 , X[:, 1].max() +0.1 \n",
    "    xx, yy = np.meshgrid(np.arange(x_min, x_max, h),np.arange(y_min, y_max, h))\n",
    "    XX=torch.torch.Tensor(np.c_[xx.ravel(), yy.ravel()])\n",
    "    _,yhat=torch.max(model(XX),1)\n",
    "    yhat=yhat.numpy().reshape(xx.shape)\n",
    "    plt.pcolormesh(xx, yy, yhat, cmap=cmap_light)\n",
    "    plt.plot(X[y[:]==0,0],X[y[:]==0,1],'ro',label='y=0')\n",
    "    plt.plot(X[y[:]==1,0],X[y[:]==1,1],'go',label='y=1')\n",
    "    plt.plot(X[y[:]==2,0],X[y[:]==2,1],'o',label='y=2')\n",
    "    plt.title(\"decision region\")\n",
    "    plt.legend()"
   ]
  },
  {
   "cell_type": "markdown",
   "metadata": {},
   "source": [
    "dataset object "
   ]
  },
  {
   "cell_type": "code",
   "execution_count": null,
   "metadata": {},
   "outputs": [],
   "source": [
    "from torch.utils.data import Dataset, DataLoader\n",
    "class Data(Dataset):\n",
    "    #  modified from: http://cs231n.github.io/neural-networks-case-study/\n",
    "    def __init__(self,K=3,N=500):\n",
    "        D = 2\n",
    "        X = np.zeros((N*K,D)) # data matrix (each row = single example)\n",
    "        y = np.zeros(N*K, dtype='uint8') # class labels\n",
    "        for j in range(K):\n",
    "          ix = range(N*j,N*(j+1))\n",
    "          r = np.linspace(0.0,1,N) # radius\n",
    "          t = np.linspace(j*4,(j+1)*4,N) + np.random.randn(N)*0.2 # theta\n",
    "          X[ix] = np.c_[r*np.sin(t), r*np.cos(t)]\n",
    "          y[ix] = j\n",
    "    \n",
    "        self.y=torch.from_numpy(y).type(torch.LongTensor)\n",
    "        self.x=torch.from_numpy(X).type(torch.FloatTensor)\n",
    "        self.len=y.shape[0]\n",
    "        \n",
    "    def __getitem__(self,index):    \n",
    "            \n",
    "        return self.x[index],self.y[index]\n",
    "    def __len__(self):\n",
    "        return self.len\n",
    "    def plot_stuff(self):\n",
    "        plt.plot(self.x[self.y[:]==0,0].numpy(),self.x[self.y[:]==0,1].numpy(),'o',label=\"y=0\")\n",
    "        plt.plot(self.x[self.y[:]==1,0].numpy(),self.x[self.y[:]==1,1].numpy(),'ro',label=\"y=1\")\n",
    "        plt.plot(self.x[self.y[:]==2,0].numpy(),self.x[self.y[:]==2,1].numpy(),'go',label=\"y=2\")\n",
    "        plt.legend()"
   ]
  },
  {
   "cell_type": "markdown",
   "metadata": {},
   "source": [
    "<a id='ref1'> </a>\n",
    "\n",
    "<h2>Neural  Network Module and Function for Training   </h2>"
   ]
  },
  {
   "cell_type": "markdown",
   "metadata": {},
   "source": [
    "Neural Network Module using  <code> ModuleList() </code>"
   ]
  },
  {
   "cell_type": "code",
   "execution_count": null,
   "metadata": {},
   "outputs": [],
   "source": [
    "class Net(nn.Module):\n",
    "    def __init__(self,Layers):\n",
    "        super(Net,self).__init__()\n",
    "        self.hidden = nn.ModuleList()\n",
    "\n",
    "        for input_size,output_size in zip(Layers,Layers[1:]):\n",
    "            self.hidden.append(nn.Linear(input_size,output_size))\n",
    "        \n",
    "    def forward(self,activation):\n",
    "        L=len(self.hidden)\n",
    "        for (l,linear_transform)  in zip(range(L),self.hidden):\n",
    "            if l<L-1:\n",
    "                activation =F.relu(linear_transform (activation))\n",
    "           \n",
    "            else:\n",
    "                activation =linear_transform (activation)\n",
    "        \n",
    "        return activation"
   ]
  },
  {
   "cell_type": "markdown",
   "metadata": {},
   "source": [
    "A function used to train. "
   ]
  },
  {
   "cell_type": "code",
   "execution_count": null,
   "metadata": {},
   "outputs": [],
   "source": [
    "def train(data_set,model,criterion, train_loader, optimizer, epochs=100):\n",
    "    LOSS=[]\n",
    "    ACC=[]\n",
    "    for epoch in range(epochs):\n",
    "        for x,y in train_loader:\n",
    "            optimizer.zero_grad()\n",
    "        \n",
    "            yhat=model(x)\n",
    "            loss=criterion(yhat,y)\n",
    "            optimizer.zero_grad()\n",
    "            loss.backward()\n",
    "            optimizer.step()\n",
    "        \n",
    "        LOSS.append(loss.item())\n",
    "        ACC.append(accuracy(model,data_set))\n",
    "    \n",
    "    fig, ax1 = plt.subplots()\n",
    "    color = 'tab:red'\n",
    "    ax1.plot(LOSS,color=color)\n",
    "    ax1.set_xlabel('epoch',color=color)\n",
    "    ax1.set_ylabel('total loss',color=color)\n",
    "    ax1.tick_params(axis='y', color=color)\n",
    "    \n",
    "    ax2 = ax1.twinx()  \n",
    "    color = 'tab:blue'\n",
    "    ax2.set_ylabel('accuracy', color=color)  # we already handled the x-label with ax1\n",
    "    ax2.plot( ACC, color=color)\n",
    "    ax2.tick_params(axis='y', labelcolor=color)\n",
    "    fig.tight_layout()  # otherwise the right y-label is slightly clipped\n",
    "    \n",
    "    plt.show()\n",
    "    return LOSS"
   ]
  },
  {
   "cell_type": "markdown",
   "metadata": {},
   "source": [
    "A function used to calculate accuracy "
   ]
  },
  {
   "cell_type": "code",
   "execution_count": null,
   "metadata": {},
   "outputs": [],
   "source": [
    "def accuracy(model,data_set):\n",
    "    _,yhat=torch.max(model(data_set.x),1)\n",
    "    return (yhat==data_set.y).numpy().mean()"
   ]
  },
  {
   "cell_type": "markdown",
   "metadata": {},
   "source": [
    "<a id=\"ref2\"></a>\n",
    "<h2>Train and Validate the Model </h2>"
   ]
  },
  {
   "cell_type": "markdown",
   "metadata": {},
   "source": [
    "Crate a dataset object:"
   ]
  },
  {
   "cell_type": "code",
   "execution_count": null,
   "metadata": {},
   "outputs": [],
   "source": [
    "data_set=Data()\n",
    "data_set.plot_stuff()\n",
    "data_set.y=data_set.y.view(-1)"
   ]
  },
  {
   "cell_type": "markdown",
   "metadata": {},
   "source": [
    "Create a  network to classify three classes with 1 hidden layer with 50 neurons "
   ]
  },
  {
   "cell_type": "code",
   "execution_count": null,
   "metadata": {},
   "outputs": [],
   "source": [
    "Layers=[2,50,3]\n",
    "model=Net(Layers)\n",
    "learning_rate=0.10\n",
    "\n",
    "optimizer=torch.optim.SGD(model.parameters(), lr=learning_rate)\n",
    "train_loader=DataLoader(dataset=data_set,batch_size=20)\n",
    "\n",
    "criterion=nn.CrossEntropyLoss()\n",
    "LOSS=train(data_set,model,criterion, train_loader, optimizer, epochs=100)\n",
    "\n",
    "plot_decision_regions_3class(model,data_set)"
   ]
  },
  {
   "cell_type": "markdown",
   "metadata": {},
   "source": [
    "Create a  network to classify three classes with 2 hidden layer with 20 neurons "
   ]
  },
  {
   "cell_type": "code",
   "execution_count": null,
   "metadata": {},
   "outputs": [],
   "source": [
    "Layers=[2,10,10,3]\n",
    "model=Net(Layers)\n",
    "learning_rate=0.01\n",
    "\n",
    "optimizer=torch.optim.SGD(model.parameters(), lr=learning_rate)\n",
    "train_loader=DataLoader(dataset=data_set,batch_size=20)\n",
    "\n",
    "criterion=nn.CrossEntropyLoss()\n",
    "LOSS=train(data_set,model,criterion, train_loader, optimizer, epochs=1000)\n",
    "plot_decision_regions_3class(model,data_set)"
   ]
  },
  {
   "cell_type": "markdown",
   "metadata": {},
   "source": [
    "<a id='ref3'></a>\n",
    "<h2>Practice Question<h2>"
   ]
  },
  {
   "cell_type": "markdown",
   "metadata": {},
   "source": [
    "## create a network with three hidden layers each with ten neurons, then train the network using the same process as above "
   ]
  },
  {
   "cell_type": "code",
   "execution_count": null,
   "metadata": {},
   "outputs": [],
   "source": []
  },
  {
   "cell_type": "markdown",
   "metadata": {},
   "source": [
    "Double-click __here__ for the solution.\n",
    "\n",
    "<!-- \n",
    "Layers=[2,10,10,10,3]\n",
    "model=Net(Layers)\n",
    "learning_rate=0.01\n",
    "optimizer=torch.optim.SGD(model.parameters(), lr=learning_rate)\n",
    "train_loader=DataLoader(dataset=data_set,batch_size=20)\n",
    "criterion=nn.CrossEntropyLoss()\n",
    "LOSS=train(data_set,model,criterion, train_loader, optimizer, epochs=1000)\n",
    "plot_decision_regions_3class(model,data_set\n",
    "-->"
   ]
  },
  {
   "cell_type": "markdown",
   "metadata": {},
   "source": [
    "### About the Authors:  \n",
    "[Joseph Santarcangelo]( https://www.linkedin.com/in/joseph-s-50398b136/) has a PhD in Electrical Engineering. His research focused on using machine learning, signal processing, and computer vision to determine how videos impact human cognition. \n",
    "\n",
    "Other contributors: [Michelle Carey](  https://www.linkedin.com/in/michelleccarey/), [Mavis Zhou](  https://www.linkedin.com/in/jiahui-mavis-zhou-a4537814a/) "
   ]
  },
  {
   "cell_type": "markdown",
   "metadata": {},
   "source": [
    "<hr>"
   ]
  },
  {
   "cell_type": "markdown",
   "metadata": {},
   "source": [
    "Copyright &copy; 2018 [cognitiveclass.ai](cognitiveclass.ai?utm_source=bducopyrightlink&utm_medium=dswb&utm_campaign=bdu). This notebook and its source code are released under the terms of the [MIT License](https://bigdatauniversity.com/mit-license/)."
   ]
  }
 ],
 "metadata": {
  "kernelspec": {
   "display_name": "Python 3",
   "language": "python",
   "name": "python3"
  },
  "language_info": {
   "codemirror_mode": {
    "name": "ipython",
    "version": 3
   },
   "file_extension": ".py",
   "mimetype": "text/x-python",
   "name": "python",
   "nbconvert_exporter": "python",
   "pygments_lexer": "ipython3",
   "version": "3.6.5"
  }
 },
 "nbformat": 4,
 "nbformat_minor": 2
}
