{
 "cells": [
  {
   "cell_type": "markdown",
   "metadata": {},
   "source": [
    "<a href=\"http://cocl.us/pytorch_link_top\">\n",
    "    <img src=\"https://cocl.us/Pytorch_top\" width=\"750\" alt=\"IBM 10TB Storage\" />\n",
    "</a> "
   ]
  },
  {
   "cell_type": "markdown",
   "metadata": {},
   "source": [
    "<img src=\"https://ibm.box.com/shared/static/ugcqz6ohbvff804xp84y4kqnvvk3bq1g.png\" width=\"200\" alt=\"cognitiveclass.ai logo\" />"
   ]
  },
  {
   "cell_type": "markdown",
   "metadata": {},
   "source": [
    "<h1>Linear regression: Training and Validation Data</h1> "
   ]
  },
  {
   "cell_type": "markdown",
   "metadata": {},
   "source": [
    "<h2>Table of Contents</h2>\n",
    "<p>In this lab, you will learn to select the best learning rate by using validation data.</p>\n",
    "\n",
    "<ul>\n",
    "    <li><a href=\"#Makeup_Data\">Make Some Data</a></li>\n",
    "    <li><a href=\"#LR_Loader_Cost\">Create a Linear Regression Object, Data Loader and Criterion Function</a></li>\n",
    "    <li><a href=\"#LR_Hyper\">Different learning rates and Data Structures to Store results for Different Hyperparameters</a></li>\n",
    "    <li><a href=\"#Model\">Train different modules for different Hyperparameters</a></li>\n",
    "    <li><a href=\"#Result\">View Results</a></li>\n",
    "</ul>\n",
    "\n",
    "<p>Estimated Time Needed: <strong>30 min</strong></p>\n",
    "\n",
    "<hr>"
   ]
  },
  {
   "cell_type": "markdown",
   "metadata": {},
   "source": [
    "<h2>Preparation</h2>"
   ]
  },
  {
   "cell_type": "markdown",
   "metadata": {},
   "source": [
    "We'll need the following libraries and set the random seed."
   ]
  },
  {
   "cell_type": "code",
   "execution_count": 1,
   "metadata": {},
   "outputs": [],
   "source": [
    "# Import libraries we need for this lab, and set the random seed\n",
    "\n",
    "from torch import nn\n",
    "import torch\n",
    "import numpy as np\n",
    "import matplotlib.pyplot as plt\n",
    "%matplotlib inline\n",
    "from torch import nn,optim"
   ]
  },
  {
   "cell_type": "markdown",
   "metadata": {},
   "source": [
    "<!--Empty Space for separating topics-->"
   ]
  },
  {
   "cell_type": "markdown",
   "metadata": {},
   "source": [
    "<h2 id=\"Makeup_Data\">Make Some Data</h2>"
   ]
  },
  {
   "cell_type": "markdown",
   "metadata": {},
   "source": [
    "First, we'll create some artificial data in a dataset class. The class will include the option to produce training data or validation data. The training data will include outliers."
   ]
  },
  {
   "cell_type": "code",
   "execution_count": 2,
   "metadata": {},
   "outputs": [],
   "source": [
    "# Create Data class\n",
    "\n",
    "from torch.utils.data import Dataset, DataLoader\n",
    "\n",
    "class Data(Dataset):\n",
    "    \n",
    "    # Constructor\n",
    "    def __init__(self, train = True):\n",
    "            self.x = torch.arange(-3, 3, 0.1).view(-1, 1)\n",
    "            self.f = -3 * self.x + 1\n",
    "            self.y = self.f + 0.1 * torch.randn(self.x.size())\n",
    "            self.len = self.x.shape[0]\n",
    "            \n",
    "            #outliers \n",
    "            if train == True:\n",
    "                self.y[0] = 0\n",
    "                self.y[50:55] = 20\n",
    "            else:\n",
    "                pass\n",
    "      \n",
    "    # Getter\n",
    "    def __getitem__(self, index):    \n",
    "        return self.x[index], self.y[index]\n",
    "    \n",
    "    # Get Length\n",
    "    def __len__(self):\n",
    "        return self.len"
   ]
  },
  {
   "cell_type": "markdown",
   "metadata": {},
   "source": [
    "Create two objects: one that contains training data and a second that contains validation data. Assume that the training data has the outliers. "
   ]
  },
  {
   "cell_type": "code",
   "execution_count": 3,
   "metadata": {},
   "outputs": [],
   "source": [
    "# Create training dataset and validation dataset\n",
    "\n",
    "train_data = Data()\n",
    "val_data = Data(train = False)"
   ]
  },
  {
   "cell_type": "markdown",
   "metadata": {},
   "source": [
    "Overlay the training points in red over the function that generated the data. Notice the outliers at x=-3 and around x=2:"
   ]
  },
  {
   "cell_type": "code",
   "execution_count": 4,
   "metadata": {},
   "outputs": [
    {
     "data": {
      "image/png": "[encoded data removed]",
      "text/plain": [
       "<Figure size 432x288 with 1 Axes>"
      ]
     },
     "metadata": {
      "needs_background": "light"
     },
     "output_type": "display_data"
    }
   ],
   "source": [
    "# Plot out training points\n",
    "\n",
    "plt.plot(train_data.x.numpy(), train_data.y.numpy(), 'xr')\n",
    "plt.plot(train_data.x.numpy(), train_data.f.numpy())\n",
    "plt.show()"
   ]
  },
  {
   "cell_type": "markdown",
   "metadata": {},
   "source": [
    "<!--Empty Space for separating topics-->"
   ]
  },
  {
   "cell_type": "markdown",
   "metadata": {},
   "source": [
    "<h2 id=\"LR_Loader_Cost\">Create a Linear Regression Object,  Data Loader, and Criterion Function</h2>"
   ]
  },
  {
   "cell_type": "code",
   "execution_count": 5,
   "metadata": {},
   "outputs": [],
   "source": [
    "# Create Linear Regression Class\n",
    "\n",
    "from torch import nn\n",
    "\n",
    "class linear_regression(nn.Module):\n",
    "    \n",
    "    # Constructor\n",
    "    def __init__(self, input_size, output_size):\n",
    "        super(linear_regression, self).__init__()\n",
    "        self.linear = nn.Linear(input_size, output_size)\n",
    "    \n",
    "    # Prediction function\n",
    "    def forward(self, x):\n",
    "        yhat = self.linear(x)\n",
    "        return yhat"
   ]
  },
  {
   "cell_type": "markdown",
   "metadata": {},
   "source": [
    "Create the criterion function and a <code>DataLoader</code> object: "
   ]
  },
  {
   "cell_type": "code",
   "execution_count": 6,
   "metadata": {},
   "outputs": [],
   "source": [
    "# Create MSELoss function and DataLoader\n",
    "\n",
    "criterion = nn.MSELoss()\n",
    "trainloader = DataLoader(dataset = train_data, batch_size = 1)"
   ]
  },
  {
   "cell_type": "markdown",
   "metadata": {},
   "source": [
    "<!--Empty Space for separating topics-->"
   ]
  },
  {
   "cell_type": "markdown",
   "metadata": {},
   "source": [
    "<h2 id=\"LR_Hyper\">Different learning rates and Data Structures to Store results for different Hyperparameters</h2>"
   ]
  },
  {
   "cell_type": "markdown",
   "metadata": {},
   "source": [
    "Create a list with different learning rates and a tensor (can be a list) for the training and validating cost/total loss. Include the list MODELS, which stores the training model for every value of the learning rate. "
   ]
  },
  {
   "cell_type": "code",
   "execution_count": 7,
   "metadata": {},
   "outputs": [],
   "source": [
    "# Create Learning Rate list, the error lists and the MODELS list\n",
    "\n",
    "learning_rates=[0.0001, 0.001, 0.01, 0.1]\n",
    "\n",
    "train_error=torch.zeros(len(learning_rates))\n",
    "validation_error=torch.zeros(len(learning_rates))\n",
    "\n",
    "MODELS=[]"
   ]
  },
  {
   "cell_type": "markdown",
   "metadata": {},
   "source": [
    "<!--Empty Space for separating topics-->"
   ]
  },
  {
   "cell_type": "markdown",
   "metadata": {},
   "source": [
    "<h2 id=\"Model\">Train different models  for different Hyperparameters</h2>"
   ]
  },
  {
   "cell_type": "markdown",
   "metadata": {},
   "source": [
    "Try different values of learning rates, perform stochastic gradient descent, and save the results on the training data and validation data. Finally, save each model in a list."
   ]
  },
  {
   "cell_type": "code",
   "execution_count": 8,
   "metadata": {},
   "outputs": [],
   "source": [
    "# Define the train model function and train the model\n",
    "\n",
    "def train_model_with_lr (iter, lr_list):\n",
    "    \n",
    "    # iterate through different learning rates \n",
    "    for i, lr in enumerate(lr_list):\n",
    "        model = linear_regression(1, 1)\n",
    "        optimizer = optim.SGD(model.parameters(), lr = lr)\n",
    "        for epoch in range(iter):\n",
    "            for x, y in trainloader:\n",
    "                yhat = model(x)\n",
    "                loss = criterion(yhat, y)\n",
    "                optimizer.zero_grad()\n",
    "                loss.backward()\n",
    "                optimizer.step()\n",
    "                \n",
    "        # train data\n",
    "        Yhat = model(train_data.x)\n",
    "        train_loss = criterion(Yhat, train_data.y)\n",
    "        train_error[i] = train_loss.item()\n",
    "    \n",
    "        # validation data\n",
    "        Yhat = model(val_data.x)\n",
    "        val_loss = criterion(Yhat, val_data.y)\n",
    "        validation_error[i] = val_loss.item()\n",
    "        MODELS.append(model)\n",
    "\n",
    "train_model_with_lr(10, learning_rates)"
   ]
  },
  {
   "cell_type": "markdown",
   "metadata": {},
   "source": [
    "<!--Empty Space for separating topics-->"
   ]
  },
  {
   "cell_type": "markdown",
   "metadata": {},
   "source": [
    "<h2 id=\"Result\">View the Results</h2>"
   ]
  },
  {
   "cell_type": "markdown",
   "metadata": {},
   "source": [
    "Plot the training loss and validation loss for each learning rate:  "
   ]
  },
  {
   "cell_type": "code",
   "execution_count": 9,
   "metadata": {},
   "outputs": [
    {
     "data": {
      "image/png": "[encoded data removed]",
      "text/plain": [
       "<Figure size 432x288 with 1 Axes>"
      ]
     },
     "metadata": {
      "needs_background": "light"
     },
     "output_type": "display_data"
    }
   ],
   "source": [
    "# Plot the training loss and validation loss\n",
    "\n",
    "plt.semilogx(np.array(learning_rates), train_error.numpy(), label = 'training loss/total Loss')\n",
    "plt.semilogx(np.array(learning_rates), validation_error.numpy(), label = 'validation cost/total Loss')\n",
    "plt.ylabel('Cost\\ Total Loss')\n",
    "plt.xlabel('learning rate')\n",
    "plt.legend()\n",
    "plt.show()"
   ]
  },
  {
   "cell_type": "markdown",
   "metadata": {},
   "source": [
    "Produce a prediction by using the validation data for each model:  "
   ]
  },
  {
   "cell_type": "code",
   "execution_count": 10,
   "metadata": {},
   "outputs": [
    {
     "name": "stdout",
     "output_type": "stream",
     "text": [
      "i [[1.4033116]\n",
      " [1.3594251]\n",
      " [1.3155384]]\n",
      "i [[5.789907]\n",
      " [5.672782]\n",
      " [5.555656]]\n",
      "i [[6.5586963]\n",
      " [6.4257874]\n",
      " [6.292878 ]]\n",
      "i [[14.535267]\n",
      " [14.098093]\n",
      " [13.660918]]\n"
     ]
    },
    {
     "data": {
      "image/png": "[encoded data removed]",
      "text/plain": [
       "<Figure size 432x288 with 1 Axes>"
      ]
     },
     "metadata": {
      "needs_background": "light"
     },
     "output_type": "display_data"
    }
   ],
   "source": [
    "# Plot the predictions\n",
    "\n",
    "i = 0\n",
    "for model, learning_rate in zip(MODELS, learning_rates):\n",
    "    yhat = model(val_data.x)\n",
    "    plt.plot(val_data.x.numpy(), yhat.detach().numpy(), label = 'lr:' + str(learning_rate))\n",
    "    print('i', yhat.detach().numpy()[0:3])\n",
    "plt.plot(val_data.x.numpy(), val_data.f.numpy(), 'or', label = 'validation data')\n",
    "plt.xlabel('x')\n",
    "plt.ylabel('y')\n",
    "plt.legend()\n",
    "plt.show()"
   ]
  },
  {
   "cell_type": "markdown",
   "metadata": {},
   "source": [
    "<!--Empty Space for separating topics-->"
   ]
  },
  {
   "cell_type": "markdown",
   "metadata": {},
   "source": [
    "<h3>Practice</h3>"
   ]
  },
  {
   "cell_type": "markdown",
   "metadata": {},
   "source": [
    "The object <code>good_model</code> is the best performing model. Use the train loader to get the data samples x and y. Produce an estimate for <code>yhat</code> and print it out for every sample in a for a loop. Compare it to the actual prediction <code>y</code>."
   ]
  },
  {
   "cell_type": "code",
   "execution_count": 11,
   "metadata": {},
   "outputs": [
    {
     "name": "stdout",
     "output_type": "stream",
     "text": [
      "yhat=  tensor([[6.5587]], grad_fn=<ThAddmmBackward>) y tensor([[0.]])\n",
      "yhat=  tensor([[6.4258]], grad_fn=<ThAddmmBackward>) y tensor([[9.6264]])\n",
      "yhat=  tensor([[6.2929]], grad_fn=<ThAddmmBackward>) y tensor([[9.4564]])\n",
      "yhat=  tensor([[6.1600]], grad_fn=<ThAddmmBackward>) y tensor([[9.1694]])\n",
      "yhat=  tensor([[6.0271]], grad_fn=<ThAddmmBackward>) y tensor([[8.5508]])\n",
      "yhat=  tensor([[5.8942]], grad_fn=<ThAddmmBackward>) y tensor([[8.4679]])\n",
      "yhat=  tensor([[5.7612]], grad_fn=<ThAddmmBackward>) y tensor([[7.9861]])\n",
      "yhat=  tensor([[5.6283]], grad_fn=<ThAddmmBackward>) y tensor([[7.8569]])\n",
      "yhat=  tensor([[5.4954]], grad_fn=<ThAddmmBackward>) y tensor([[7.6244]])\n",
      "yhat=  tensor([[5.3625]], grad_fn=<ThAddmmBackward>) y tensor([[7.1182]])\n",
      "yhat=  tensor([[5.2296]], grad_fn=<ThAddmmBackward>) y tensor([[7.1124]])\n",
      "yhat=  tensor([[5.0967]], grad_fn=<ThAddmmBackward>) y tensor([[6.8455]])\n",
      "yhat=  tensor([[4.9638]], grad_fn=<ThAddmmBackward>) y tensor([[6.3690]])\n",
      "yhat=  tensor([[4.8309]], grad_fn=<ThAddmmBackward>) y tensor([[6.1184]])\n",
      "yhat=  tensor([[4.6980]], grad_fn=<ThAddmmBackward>) y tensor([[5.7911]])\n",
      "yhat=  tensor([[4.5651]], grad_fn=<ThAddmmBackward>) y tensor([[5.6109]])\n",
      "yhat=  tensor([[4.4322]], grad_fn=<ThAddmmBackward>) y tensor([[5.2971]])\n",
      "yhat=  tensor([[4.2992]], grad_fn=<ThAddmmBackward>) y tensor([[4.8912]])\n",
      "yhat=  tensor([[4.1663]], grad_fn=<ThAddmmBackward>) y tensor([[4.3643]])\n",
      "yhat=  tensor([[4.0334]], grad_fn=<ThAddmmBackward>) y tensor([[4.2400]])\n",
      "yhat=  tensor([[3.9005]], grad_fn=<ThAddmmBackward>) y tensor([[4.0291]])\n",
      "yhat=  tensor([[3.7676]], grad_fn=<ThAddmmBackward>) y tensor([[3.5512]])\n",
      "yhat=  tensor([[3.6347]], grad_fn=<ThAddmmBackward>) y tensor([[3.4666]])\n",
      "yhat=  tensor([[3.5018]], grad_fn=<ThAddmmBackward>) y tensor([[3.0975]])\n",
      "yhat=  tensor([[3.3689]], grad_fn=<ThAddmmBackward>) y tensor([[2.8298]])\n",
      "yhat=  tensor([[3.2360]], grad_fn=<ThAddmmBackward>) y tensor([[2.5052]])\n",
      "yhat=  tensor([[3.1031]], grad_fn=<ThAddmmBackward>) y tensor([[2.1922]])\n",
      "yhat=  tensor([[2.9702]], grad_fn=<ThAddmmBackward>) y tensor([[1.8135]])\n",
      "yhat=  tensor([[2.8372]], grad_fn=<ThAddmmBackward>) y tensor([[1.7167]])\n",
      "yhat=  tensor([[2.7043]], grad_fn=<ThAddmmBackward>) y tensor([[1.2291]])\n",
      "yhat=  tensor([[2.5714]], grad_fn=<ThAddmmBackward>) y tensor([[1.0216]])\n",
      "yhat=  tensor([[2.4385]], grad_fn=<ThAddmmBackward>) y tensor([[0.6964]])\n",
      "yhat=  tensor([[2.3056]], grad_fn=<ThAddmmBackward>) y tensor([[0.5588]])\n",
      "yhat=  tensor([[2.1727]], grad_fn=<ThAddmmBackward>) y tensor([[-0.0657]])\n",
      "yhat=  tensor([[2.0398]], grad_fn=<ThAddmmBackward>) y tensor([[-0.2012]])\n",
      "yhat=  tensor([[1.9069]], grad_fn=<ThAddmmBackward>) y tensor([[-0.4636]])\n",
      "yhat=  tensor([[1.7740]], grad_fn=<ThAddmmBackward>) y tensor([[-0.7653]])\n",
      "yhat=  tensor([[1.6411]], grad_fn=<ThAddmmBackward>) y tensor([[-1.0652]])\n",
      "yhat=  tensor([[1.5082]], grad_fn=<ThAddmmBackward>) y tensor([[-1.4746]])\n",
      "yhat=  tensor([[1.3752]], grad_fn=<ThAddmmBackward>) y tensor([[-1.5759]])\n",
      "yhat=  tensor([[1.2423]], grad_fn=<ThAddmmBackward>) y tensor([[-1.9843]])\n",
      "yhat=  tensor([[1.1094]], grad_fn=<ThAddmmBackward>) y tensor([[-2.3379]])\n",
      "yhat=  tensor([[0.9765]], grad_fn=<ThAddmmBackward>) y tensor([[-2.4730]])\n",
      "yhat=  tensor([[0.8436]], grad_fn=<ThAddmmBackward>) y tensor([[-2.7588]])\n",
      "yhat=  tensor([[0.7107]], grad_fn=<ThAddmmBackward>) y tensor([[-3.4426]])\n",
      "yhat=  tensor([[0.5778]], grad_fn=<ThAddmmBackward>) y tensor([[-3.5446]])\n",
      "yhat=  tensor([[0.4449]], grad_fn=<ThAddmmBackward>) y tensor([[-3.8993]])\n",
      "yhat=  tensor([[0.3120]], grad_fn=<ThAddmmBackward>) y tensor([[-4.0871]])\n",
      "yhat=  tensor([[0.1791]], grad_fn=<ThAddmmBackward>) y tensor([[-4.3479]])\n",
      "yhat=  tensor([[0.0462]], grad_fn=<ThAddmmBackward>) y tensor([[-4.6832]])\n",
      "yhat=  tensor([[-0.0868]], grad_fn=<ThAddmmBackward>) y tensor([[20.]])\n",
      "yhat=  tensor([[-0.2197]], grad_fn=<ThAddmmBackward>) y tensor([[20.]])\n",
      "yhat=  tensor([[-0.3526]], grad_fn=<ThAddmmBackward>) y tensor([[20.]])\n",
      "yhat=  tensor([[-0.4855]], grad_fn=<ThAddmmBackward>) y tensor([[20.]])\n",
      "yhat=  tensor([[-0.6184]], grad_fn=<ThAddmmBackward>) y tensor([[20.]])\n",
      "yhat=  tensor([[-0.7513]], grad_fn=<ThAddmmBackward>) y tensor([[-6.2248]])\n",
      "yhat=  tensor([[-0.8842]], grad_fn=<ThAddmmBackward>) y tensor([[-6.8057]])\n",
      "yhat=  tensor([[-1.0171]], grad_fn=<ThAddmmBackward>) y tensor([[-7.0931]])\n",
      "yhat=  tensor([[-1.1500]], grad_fn=<ThAddmmBackward>) y tensor([[-7.2575]])\n",
      "yhat=  tensor([[-1.2829]], grad_fn=<ThAddmmBackward>) y tensor([[-7.7355]])\n"
     ]
    }
   ],
   "source": [
    "# Practice: Use the train loader to get the data samples x and y. Produce yhat. Compare y and yhat.\n",
    "\n",
    "good_model = MODELS[2]\n",
    "for x, y in trainloader:\n",
    "    print(\"yhat= \", good_model(x),\"y\", y)"
   ]
  },
  {
   "cell_type": "markdown",
   "metadata": {},
   "source": [
    "Double-click <b>here</b> for the solution.\n",
    "\n",
    "<!-- \n",
    "for x, y in trainloader:\n",
    "    print(\"yhat= \", good_model(x),\"y\", y)\n",
    "-->"
   ]
  },
  {
   "cell_type": "markdown",
   "metadata": {},
   "source": [
    "<!--Empty Space for separating topics-->"
   ]
  },
  {
   "cell_type": "markdown",
   "metadata": {},
   "source": [
    "<a href=\"http://cocl.us/pytorch_link_bottom\">\n",
    "    <img src=\"https://cocl.us/pytorch_image_bottom\" width=\"750\" alt=\"PyTorch Bottom\" />\n",
    "</a>"
   ]
  },
  {
   "cell_type": "markdown",
   "metadata": {},
   "source": [
    "<h2>About the Authors:</h2> \n",
    "\n",
    "<a href=\"https://www.linkedin.com/in/joseph-s-50398b136/\">Joseph Santarcangelo</a> has a PhD in Electrical Engineering, his research focused on using machine learning, signal processing, and computer vision to determine how videos impact human cognition. Joseph has been working for IBM since he completed his PhD. "
   ]
  },
  {
   "cell_type": "markdown",
   "metadata": {},
   "source": [
    "Other contributors: <a href=\"https://www.linkedin.com/in/michelleccarey/\">Michelle Carey</a>, <a href=\"www.linkedin.com/in/jiahui-mavis-zhou-a4537814a\">Mavis Zhou</a>"
   ]
  },
  {
   "cell_type": "markdown",
   "metadata": {},
   "source": [
    "<hr>"
   ]
  },
  {
   "cell_type": "markdown",
   "metadata": {},
   "source": [
    "Copyright &copy; 2018 <a href=\"cognitiveclass.ai?utm_source=bducopyrightlink&utm_medium=dswb&utm_campaign=bdu\">cognitiveclass.ai</a>. This notebook and its source code are released under the terms of the <a href=\"https://bigdatauniversity.com/mit-license/\">MIT License</a>."
   ]
  }
 ],
 "metadata": {
  "kernelspec": {
   "display_name": "Python 3",
   "language": "python",
   "name": "python3"
  },
  "language_info": {
   "codemirror_mode": {
    "name": "ipython",
    "version": 3
   },
   "file_extension": ".py",
   "mimetype": "text/x-python",
   "name": "python",
   "nbconvert_exporter": "python",
   "pygments_lexer": "ipython3",
   "version": "3.6.6"
  }
 },
 "nbformat": 4,
 "nbformat_minor": 2
}
